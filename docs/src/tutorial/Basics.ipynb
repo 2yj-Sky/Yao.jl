{
 "cells": [
  {
   "cell_type": "markdown",
   "metadata": {},
   "source": [
    "# Basics about quantum simulation"
   ]
  },
  {
   "cell_type": "code",
   "execution_count": 8,
   "metadata": {},
   "outputs": [],
   "source": [
    "using Yao, Yao.Blocks\n",
    "using LinearAlgebra\n",
    "using Test, BenchmarkTools"
   ]
  },
  {
   "cell_type": "markdown",
   "metadata": {},
   "source": [
    "## Basic Register Operations"
   ]
  },
  {
   "cell_type": "markdown",
   "metadata": {},
   "source": [
    "### Constructors"
   ]
  },
  {
   "cell_type": "code",
   "execution_count": 9,
   "metadata": {},
   "outputs": [
    {
     "data": {
      "text/plain": [
       "DefaultRegister{3, Complex{Float64}}\n",
       "    active qubits: 5/5"
      ]
     },
     "execution_count": 9,
     "metadata": {},
     "output_type": "execute_result"
    }
   ],
   "source": [
    "ψ1 = zero_state(5)\n",
    "ψ2 = zero_state(5, 3)  # register with batch."
   ]
  },
  {
   "cell_type": "code",
   "execution_count": 10,
   "metadata": {},
   "outputs": [
    {
     "data": {
      "text/plain": [
       "DefaultRegister{9, Complex{Float64}}\n",
       "    active qubits: 5/5"
      ]
     },
     "execution_count": 10,
     "metadata": {},
     "output_type": "execute_result"
    }
   ],
   "source": [
    "@assert repeat(ψ1, 3) == ψ2\n",
    "repeat(ψ2, 3)   # repeat registers in batch dimension"
   ]
  },
  {
   "cell_type": "code",
   "execution_count": 11,
   "metadata": {},
   "outputs": [
    {
     "data": {
      "text/plain": [
       "DefaultRegister{3, Complex{Float64}}\n",
       "    active qubits: 10/10"
      ]
     },
     "execution_count": 11,
     "metadata": {},
     "output_type": "execute_result"
    }
   ],
   "source": [
    "join(ψ2, ψ2)"
   ]
  },
  {
   "cell_type": "code",
   "execution_count": 12,
   "metadata": {},
   "outputs": [],
   "source": [
    "ψ1 = rand_state(5)\n",
    "ψ2 = rand_state(5)\n",
    "@assert ψ1 |> isnormalized && ψ2 |> isnormalized\n",
    "ψ3 = 0.3ψ1 + 2ψ2\n",
    "@assert ψ3 |> isnormalized == false\n",
    "@assert ψ3 |> normalize! |> isnormalized"
   ]
  },
  {
   "cell_type": "code",
   "execution_count": 13,
   "metadata": {},
   "outputs": [
    {
     "data": {
      "text/plain": [
       "DefaultRegister{1, Complex{Float64}}\n",
       "    active qubits: 5/5"
      ]
     },
     "execution_count": 13,
     "metadata": {},
     "output_type": "execute_result"
    }
   ],
   "source": [
    "reg = product_state(5, 0b11100)"
   ]
  },
  {
   "cell_type": "code",
   "execution_count": 14,
   "metadata": {},
   "outputs": [
    {
     "data": {
      "text/plain": [
       "true"
      ]
     },
     "execution_count": 14,
     "metadata": {},
     "output_type": "execute_result"
    }
   ],
   "source": [
    "addbit!(copy(reg), 2) == product_state(7, 0b0011100)"
   ]
  },
  {
   "cell_type": "markdown",
   "metadata": {},
   "source": [
    "### Adjoint"
   ]
  },
  {
   "cell_type": "code",
   "execution_count": 15,
   "metadata": {},
   "outputs": [
    {
     "data": {
      "text/plain": [
       "DefaultRegister{1, Complex{Float64}}\n",
       "    active qubits: 3/3 [†]"
      ]
     },
     "execution_count": 15,
     "metadata": {},
     "output_type": "execute_result"
    }
   ],
   "source": [
    "bra = rand_state(3)'"
   ]
  },
  {
   "cell_type": "code",
   "execution_count": 16,
   "metadata": {},
   "outputs": [
    {
     "data": {
      "text/plain": [
       "1.0 + 0.0im"
      ]
     },
     "execution_count": 16,
     "metadata": {},
     "output_type": "execute_result"
    }
   ],
   "source": [
    "@assert reg |> isnormalized\n",
    "reg' * reg"
   ]
  },
  {
   "cell_type": "markdown",
   "metadata": {},
   "source": [
    "# broadcasting & vectorization"
   ]
  },
  {
   "cell_type": "code",
   "execution_count": 17,
   "metadata": {},
   "outputs": [
    {
     "data": {
      "text/plain": [
       "3-element Array{DefaultRegister{1,Complex{Float64},SubArray{Complex{Float64},2,Array{Complex{Float64},3},Tuple{Base.Slice{Base.OneTo{Int64}},Base.Slice{Base.OneTo{Int64}},Int64},true}},1}:\n",
       " DefaultRegister{1, Complex{Float64}}\n",
       "    active qubits: 5/5\n",
       " DefaultRegister{1, Complex{Float64}}\n",
       "    active qubits: 5/5\n",
       " DefaultRegister{1, Complex{Float64}}\n",
       "    active qubits: 5/5"
      ]
     },
     "execution_count": 17,
     "metadata": {},
     "output_type": "execute_result"
    }
   ],
   "source": [
    "map(reg->reg |> put(5, 2=>X), repeat(ψ2, 3))"
   ]
  },
  {
   "cell_type": "markdown",
   "metadata": {},
   "source": [
    "# Focus\n",
    "To support modulized design of circuits, we use `focus!` to set some qubits as active, and the remaining are not supported!"
   ]
  },
  {
   "cell_type": "code",
   "execution_count": 35,
   "metadata": {},
   "outputs": [
    {
     "ename": "DimensionMismatch",
     "evalue": "DimensionMismatch(\"array size 48 must be divisible by the product of the new dimensions (32, Colon())\")",
     "output_type": "error",
     "traceback": [
      "DimensionMismatch(\"array size 48 must be divisible by the product of the new dimensions (32, Colon())\")",
      "",
      "Stacktrace:",
      " [1] (::getfield(Base, Symbol(\"#throw2#178\")))(::Array{Complex{Float64},2}, ::Tuple{Int64,Colon}) at ./reshapedarray.jl:105",
      " [2] _reshape_uncolon at ./reshapedarray.jl:111 [inlined]",
      " [3] reshape(::Array{Complex{Float64},2}, ::Tuple{Int64,Colon}) at ./reshapedarray.jl:101",
      " [4] reshape(::Array{Complex{Float64},2}, ::Int64, ::Colon) at ./reshapedarray.jl:100",
      " [5] focus!(::DefaultRegister{3,Complex{Float64},Array{Complex{Float64},2}}, ::UnitRange{Int64}) at /home/leo/.julia/dev/Yao/src/Registers/focus.jl:66",
      " [6] top-level scope at In[35]:1"
     ]
    }
   ],
   "source": [
    "focus!(reg, 1:5)"
   ]
  },
  {
   "cell_type": "code",
   "execution_count": 36,
   "metadata": {},
   "outputs": [
    {
     "data": {
      "text/plain": [
       "0"
      ]
     },
     "execution_count": 36,
     "metadata": {},
     "output_type": "execute_result"
    }
   ],
   "source": [
    "nactive(reg)"
   ]
  },
  {
   "cell_type": "code",
   "execution_count": 64,
   "metadata": {},
   "outputs": [
    {
     "data": {
      "text/plain": [
       "DefaultRegister{1, Complex{Float64}}\n",
       "    active qubits: 5/5"
      ]
     },
     "execution_count": 64,
     "metadata": {},
     "output_type": "execute_result"
    }
   ],
   "source": [
    "relax!(reg)"
   ]
  },
  {
   "cell_type": "code",
   "execution_count": 65,
   "metadata": {},
   "outputs": [
    {
     "data": {
      "text/plain": [
       "DefaultRegister{1, Complex{Float64}}\n",
       "    active qubits: 5/5"
      ]
     },
     "execution_count": 65,
     "metadata": {},
     "output_type": "execute_result"
    }
   ],
   "source": [
    "focus!(reg, [3,1,5]) do r\n",
    "    r.state = randn(8, 8) * r.state\n",
    "    r\n",
    "end"
   ]
  },
  {
   "cell_type": "markdown",
   "metadata": {},
   "source": [
    "# Measure"
   ]
  },
  {
   "cell_type": "code",
   "execution_count": 18,
   "metadata": {},
   "outputs": [
    {
     "data": {
      "text/plain": [
       "3×3 Array{Int64,2}:\n",
       "  22   30  122\n",
       " 108  125   74\n",
       " 119   34   74"
      ]
     },
     "execution_count": 18,
     "metadata": {},
     "output_type": "execute_result"
    }
   ],
   "source": [
    "reg = rand_state(7, 3)\n",
    "measure(reg, 3)"
   ]
  },
  {
   "cell_type": "code",
   "execution_count": 19,
   "metadata": {},
   "outputs": [
    {
     "data": {
      "text/plain": [
       "3-element Array{Array{Int64,1},1}:\n",
       " [26, 65, 105]\n",
       " [26, 65, 105]\n",
       " [26, 65, 105]"
      ]
     },
     "execution_count": 19,
     "metadata": {},
     "output_type": "execute_result"
    }
   ],
   "source": [
    "[measure!(reg) for i=1:3]"
   ]
  },
  {
   "cell_type": "code",
   "execution_count": 20,
   "metadata": {},
   "outputs": [
    {
     "data": {
      "text/plain": [
       "3-element Array{Array{Int64,1},1}:\n",
       " [26, 65, 105]\n",
       " [56, 56, 56] \n",
       " [56, 56, 56] "
      ]
     },
     "execution_count": 20,
     "metadata": {},
     "output_type": "execute_result"
    }
   ],
   "source": [
    "[measure_reset!(reg, val=0b0111000) for i=1:3]"
   ]
  },
  {
   "cell_type": "code",
   "execution_count": 21,
   "metadata": {},
   "outputs": [
    {
     "data": {
      "text/plain": [
       "3-element Array{Array{Int64,1},1}:\n",
       " [0, 0, 0]\n",
       " [3, 3, 3]\n",
       " [3, 3, 3]"
      ]
     },
     "execution_count": 21,
     "metadata": {},
     "output_type": "execute_result"
    }
   ],
   "source": [
    "[measure_reset!(focus!(reg, 1:3), val=0b011) for i=1:3]"
   ]
  },
  {
   "cell_type": "code",
   "execution_count": 22,
   "metadata": {},
   "outputs": [
    {
     "data": {
      "text/plain": [
       "DefaultRegister{3, Complex{Float64}}\n",
       "    active qubits: 3/7"
      ]
     },
     "execution_count": 22,
     "metadata": {},
     "output_type": "execute_result"
    }
   ],
   "source": [
    "reg"
   ]
  },
  {
   "cell_type": "code",
   "execution_count": 23,
   "metadata": {},
   "outputs": [
    {
     "data": {
      "text/plain": [
       "DefaultRegister{1, Complex{Float64}}\n",
       "    active qubits: 9/9"
      ]
     },
     "execution_count": 23,
     "metadata": {},
     "output_type": "execute_result"
    }
   ],
   "source": [
    "reg = rand_state(5)\n",
    "reg3 = relax!(reg) ⊗ rand_state(4)"
   ]
  },
  {
   "cell_type": "code",
   "execution_count": 24,
   "metadata": {},
   "outputs": [
    {
     "data": {
      "text/plain": [
       "1-element Array{Complex{Float64},1}:\n",
       " -0.0007265665976154684 - 0.002373871964352342im"
      ]
     },
     "execution_count": 24,
     "metadata": {},
     "output_type": "execute_result"
    }
   ],
   "source": [
    "select(reg3, 0b011100010) |> statevec"
   ]
  },
  {
   "cell_type": "code",
   "execution_count": 25,
   "metadata": {},
   "outputs": [
    {
     "data": {
      "text/plain": [
       "1×192 Array{Complex{Float64},2}:\n",
       " 0.00347749+0.00134799im  -0.000974028+0.0050492im  …  0.00644002-0.020048im"
      ]
     },
     "execution_count": 25,
     "metadata": {},
     "output_type": "execute_result"
    }
   ],
   "source": [
    "select(repeat(reg3, 3) |> focus!(1,4,2), 0b110) |> statevec"
   ]
  },
  {
   "cell_type": "code",
   "execution_count": 26,
   "metadata": {},
   "outputs": [
    {
     "data": {
      "text/plain": [
       "DefaultRegister{3, Complex{Float64}}\n",
       "    active qubits: 6/6"
      ]
     },
     "execution_count": 26,
     "metadata": {},
     "output_type": "execute_result"
    }
   ],
   "source": [
    "reg1 = rand_state(3,3)\n",
    "reg2 = rand_state(3,3)\n",
    "join(reg1, reg2) "
   ]
  },
  {
   "cell_type": "code",
   "execution_count": 31,
   "metadata": {},
   "outputs": [
    {
     "data": {
      "text/plain": [
       "true"
      ]
     },
     "execution_count": 31,
     "metadata": {},
     "output_type": "execute_result"
    }
   ],
   "source": [
    "reg = rand_state(3)\n",
    "addbit!(copy(reg), 3) ≈ join(reg, zero_state(3))"
   ]
  },
  {
   "cell_type": "markdown",
   "metadata": {},
   "source": [
    "# Utilities"
   ]
  },
  {
   "cell_type": "code",
   "execution_count": 32,
   "metadata": {},
   "outputs": [
    {
     "data": {
      "text/plain": [
       "3-element Array{Float64,1}:\n",
       " 0.13911050484863208\n",
       " 0.06541252573815   \n",
       " 0.1793275044952917 "
      ]
     },
     "execution_count": 32,
     "metadata": {},
     "output_type": "execute_result"
    }
   ],
   "source": [
    "ψ1 = rand_state(6, 3)\n",
    "ψ2 = rand_state(6, 3)\n",
    "fidelity(ψ1, ψ2)"
   ]
  },
  {
   "cell_type": "code",
   "execution_count": 33,
   "metadata": {},
   "outputs": [
    {
     "data": {
      "text/plain": [
       "3-element Array{Array{Complex{Float64},2},1}:\n",
       " [-0.00511302-0.00872987im -0.0370747-0.00201094im … 0.0269886+0.0664759im -0.0220408+0.0325978im; -0.034716-0.0129275im 0.0712498-0.0176278im … 0.00445961-0.00805039im 0.0305373+0.0291869im; … ; -0.0226332-0.0259967im -0.00803662+0.00555399im … 0.0112411-0.00355682im -0.0346827-0.00579148im; 0.0114274-0.0214105im -0.00583291+0.000909081im … -0.00492019+0.0145968im -0.00211849-0.00168544im]\n",
       " [0.0514252+0.0275375im -0.0289289+0.00234231im … -0.033624-0.00907344im 0.0430125+0.0368256im; -0.0147504-0.0605127im -0.0504855-0.00561207im … 0.0414246+0.049943im 0.044266-0.100863im; … ; 0.018502-0.0697267im 0.0407958+0.0670524im … -0.0490417+0.0568143im 0.0209275+0.0202304im; -0.0167236+0.0209528im -0.0174196-0.0112465im … 0.00926956+0.0238217im 0.0134241-0.023464im]                   \n",
       " [0.0229517+0.0163829im -0.00629934-0.0339095im … 0.0562731-0.0526053im 0.0468288+0.0423874im; 0.00234255+0.0192942im 0.0280416-0.0265151im … 0.0483064+0.0121646im 0.0339928+0.00491904im; … ; -0.0286017+0.0195683im 0.00120759+0.0481944im … 0.0886889-0.00542311im 0.0375323-0.104879im; 0.0298976+0.0310153im 0.00670335+0.00289679im … -0.00880422+0.00551955im 0.0238458-0.00475231im]            "
      ]
     },
     "execution_count": 33,
     "metadata": {},
     "output_type": "execute_result"
    }
   ],
   "source": [
    "focus!(ψ1, [1,2,4])' * focus!(ψ2, [1,2,4])"
   ]
  },
  {
   "cell_type": "markdown",
   "metadata": {},
   "source": [
    "# Batched Registers"
   ]
  },
  {
   "cell_type": "code",
   "execution_count": 34,
   "metadata": {},
   "outputs": [
    {
     "data": {
      "text/plain": [
       "DefaultRegister{8, Complex{Float64}}\n",
       "    active qubits: 10/10"
      ]
     },
     "execution_count": 34,
     "metadata": {},
     "output_type": "execute_result"
    }
   ],
   "source": [
    "reg = rand_state(10, 8)"
   ]
  },
  {
   "cell_type": "code",
   "execution_count": 35,
   "metadata": {},
   "outputs": [
    {
     "data": {
      "text/plain": [
       "8-element BitArray{1}:\n",
       " true\n",
       " true\n",
       " true\n",
       " true\n",
       " true\n",
       " true\n",
       " true\n",
       " true"
      ]
     },
     "execution_count": 35,
     "metadata": {},
     "output_type": "execute_result"
    }
   ],
   "source": [
    "@. reg * 5 - 4 * reg ≈ reg"
   ]
  },
  {
   "cell_type": "markdown",
   "metadata": {},
   "source": [
    "# Blocks"
   ]
  },
  {
   "cell_type": "code",
   "execution_count": 36,
   "metadata": {},
   "outputs": [
    {
     "data": {
      "text/plain": [
       "X gate"
      ]
     },
     "execution_count": 36,
     "metadata": {},
     "output_type": "execute_result"
    }
   ],
   "source": [
    "X"
   ]
  },
  {
   "cell_type": "code",
   "execution_count": 37,
   "metadata": {},
   "outputs": [
    {
     "data": {
      "text/plain": [
       "2×2 LuxurySparse.PermMatrix{Complex{Float64},Int64,Array{Complex{Float64},1},Array{Int64,1}}:\n",
       "    0       1.0+0.0im\n",
       " 1.0+0.0im     0     "
      ]
     },
     "execution_count": 37,
     "metadata": {},
     "output_type": "execute_result"
    }
   ],
   "source": [
    "mat(X)"
   ]
  },
  {
   "cell_type": "code",
   "execution_count": 38,
   "metadata": {},
   "outputs": [
    {
     "data": {
      "text/plain": [
       "Total: 3, DataType: Complex{Float64}\n",
       "\u001b[36m\u001b[1mput on (\u001b[22m\u001b[39m\u001b[36m\u001b[1m1\u001b[22m\u001b[39m\u001b[36m\u001b[1m)\u001b[22m\u001b[39m\n",
       "└─ X gate\n"
      ]
     },
     "execution_count": 38,
     "metadata": {},
     "output_type": "execute_result"
    }
   ],
   "source": [
    "px = put(3, 1=>X)"
   ]
  },
  {
   "cell_type": "code",
   "execution_count": 39,
   "metadata": {},
   "outputs": [
    {
     "data": {
      "text/plain": [
       "8×8 LuxurySparse.PermMatrix{Complex{Float64},Int64,Array{Complex{Float64},1},Array{Int64,1}}:\n",
       "    0       1.0+0.0im     0       …     0          0          0     \n",
       " 1.0+0.0im     0          0             0          0          0     \n",
       "    0          0          0             0          0          0     \n",
       "    0          0       1.0+0.0im        0          0          0     \n",
       "    0          0          0          1.0+0.0im     0          0     \n",
       "    0          0          0       …     0          0          0     \n",
       "    0          0          0             0          0       1.0+0.0im\n",
       "    0          0          0             0       1.0+0.0im     0     "
      ]
     },
     "execution_count": 39,
     "metadata": {},
     "output_type": "execute_result"
    }
   ],
   "source": [
    "mat(px)"
   ]
  },
  {
   "cell_type": "code",
   "execution_count": 40,
   "metadata": {},
   "outputs": [
    {
     "data": {
      "text/plain": [
       "Total: 1, DataType: Complex{Float64}\n",
       "\u001b[33m\u001b[1m[2] \u001b[22m\u001b[39mX gate\n"
      ]
     },
     "execution_count": 40,
     "metadata": {},
     "output_type": "execute_result"
    }
   ],
   "source": [
    "2X"
   ]
  },
  {
   "cell_type": "code",
   "execution_count": 41,
   "metadata": {},
   "outputs": [
    {
     "data": {
      "text/plain": [
       "2×2 LuxurySparse.PermMatrix{Complex{Float64},Int64,Array{Complex{Float64},1},Array{Int64,1}}:\n",
       "    0       2.0+0.0im\n",
       " 2.0+0.0im     0     "
      ]
     },
     "execution_count": 41,
     "metadata": {},
     "output_type": "execute_result"
    }
   ],
   "source": [
    "mat(2X)"
   ]
  },
  {
   "cell_type": "code",
   "execution_count": 42,
   "metadata": {},
   "outputs": [
    {
     "data": {
      "text/plain": [
       "Total: 3, DataType: Complex{Float64}\n",
       "\u001b[31m\u001b[1mcontrol(\u001b[22m\u001b[39m\u001b[31m\u001b[1m3\u001b[22m\u001b[39m\u001b[31m\u001b[1m)\u001b[22m\u001b[39m\n",
       "└─ \u001b[37m\u001b[1m(1,)\u001b[22m\u001b[39m=>X gate\n"
      ]
     },
     "execution_count": 42,
     "metadata": {},
     "output_type": "execute_result"
    }
   ],
   "source": [
    "cx = control(3, 3, 1=>X)"
   ]
  },
  {
   "cell_type": "code",
   "execution_count": 43,
   "metadata": {},
   "outputs": [
    {
     "data": {
      "text/plain": [
       "8×8 LuxurySparse.PermMatrix{Complex{Float64},Int64,Array{Complex{Float64},1},Array{Int64,1}}:\n",
       " 1.0+0.0im     0          0       …     0          0          0     \n",
       "    0       1.0+0.0im     0             0          0          0     \n",
       "    0          0       1.0+0.0im        0          0          0     \n",
       "    0          0          0             0          0          0     \n",
       "    0          0          0          1.0+0.0im     0          0     \n",
       "    0          0          0       …     0          0          0     \n",
       "    0          0          0             0          0       1.0+0.0im\n",
       "    0          0          0             0       1.0+0.0im     0     "
      ]
     },
     "execution_count": 43,
     "metadata": {},
     "output_type": "execute_result"
    }
   ],
   "source": [
    "mat(cx)"
   ]
  },
  {
   "cell_type": "code",
   "execution_count": null,
   "metadata": {},
   "outputs": [],
   "source": []
  }
 ],
 "metadata": {
  "kernelspec": {
   "display_name": "Julia 1.0.0",
   "language": "julia",
   "name": "julia-1.0"
  },
  "language_info": {
   "file_extension": ".jl",
   "mimetype": "application/julia",
   "name": "julia",
   "version": "1.0.0"
  }
 },
 "nbformat": 4,
 "nbformat_minor": 2
}
