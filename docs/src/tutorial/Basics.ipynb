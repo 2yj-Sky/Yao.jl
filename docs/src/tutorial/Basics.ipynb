{
 "cells": [
  {
   "cell_type": "markdown",
   "metadata": {},
   "source": [
    "# Basics about quantum simulation"
   ]
  },
  {
   "cell_type": "code",
   "execution_count": 1,
   "metadata": {},
   "outputs": [
    {
     "name": "stderr",
     "output_type": "stream",
     "text": [
      "┌ Info: Recompiling stale cache file /home/leo/.julia/compiled/v1.0/Yao/Hg5qP.ji for Yao [5a1af4f6-c801-11e8-08ea-1bad16a356b2]\n",
      "└ @ Base loading.jl:1184\n"
     ]
    }
   ],
   "source": [
    "using Yao, Yao.Blocks\n",
    "using LinearAlgebra\n",
    "using Test, BenchmarkTools"
   ]
  },
  {
   "cell_type": "code",
   "execution_count": 2,
   "metadata": {},
   "outputs": [
    {
     "data": {
      "text/plain": [
       "DefaultRegister{1, Complex{Float64}}\n",
       "    active qubits: 10/10"
      ]
     },
     "execution_count": 2,
     "metadata": {},
     "output_type": "execute_result"
    }
   ],
   "source": [
    "reg = zero_state(10)"
   ]
  },
  {
   "cell_type": "code",
   "execution_count": 3,
   "metadata": {},
   "outputs": [
    {
     "data": {
      "text/plain": [
       "DefaultRegister{1, Complex{Float64}}\n",
       "    active qubits: 5/10"
      ]
     },
     "execution_count": 3,
     "metadata": {},
     "output_type": "execute_result"
    }
   ],
   "source": [
    "focus!(reg, 1:5)"
   ]
  },
  {
   "cell_type": "code",
   "execution_count": 4,
   "metadata": {},
   "outputs": [
    {
     "data": {
      "text/plain": [
       "5"
      ]
     },
     "execution_count": 4,
     "metadata": {},
     "output_type": "execute_result"
    }
   ],
   "source": [
    "nactive(reg)"
   ]
  },
  {
   "cell_type": "code",
   "execution_count": 5,
   "metadata": {},
   "outputs": [
    {
     "data": {
      "text/plain": [
       "DefaultRegister{1, Complex{Float64}}\n",
       "    active qubits: 10/10"
      ]
     },
     "execution_count": 5,
     "metadata": {},
     "output_type": "execute_result"
    }
   ],
   "source": [
    "relax!(reg)"
   ]
  },
  {
   "cell_type": "code",
   "execution_count": 6,
   "metadata": {},
   "outputs": [
    {
     "data": {
      "text/plain": [
       "DefaultRegister{1, Complex{Float64}}\n",
       "    active qubits: 10/10"
      ]
     },
     "execution_count": 6,
     "metadata": {},
     "output_type": "execute_result"
    }
   ],
   "source": [
    "focus!(reg, [3,1,5]) do r\n",
    "    r.state = randn(8, 8) * r.state\n",
    "    r\n",
    "end"
   ]
  },
  {
   "cell_type": "code",
   "execution_count": 7,
   "metadata": {},
   "outputs": [
    {
     "data": {
      "text/plain": [
       "10-element Array{Int64,1}:\n",
       "  0\n",
       " 21\n",
       " 21\n",
       " 20\n",
       " 21\n",
       "  0\n",
       " 20\n",
       " 20\n",
       " 20\n",
       " 20"
      ]
     },
     "execution_count": 7,
     "metadata": {},
     "output_type": "execute_result"
    }
   ],
   "source": [
    "measure(reg, 10)"
   ]
  },
  {
   "cell_type": "code",
   "execution_count": 44,
   "metadata": {},
   "outputs": [
    {
     "data": {
      "text/plain": [
       "10-element Array{Array{Int64,1},1}:\n",
       " [5]\n",
       " [5]\n",
       " [5]\n",
       " [5]\n",
       " [5]\n",
       " [5]\n",
       " [5]\n",
       " [5]\n",
       " [5]\n",
       " [5]"
      ]
     },
     "execution_count": 44,
     "metadata": {},
     "output_type": "execute_result"
    }
   ],
   "source": [
    "[measure!(reg) for i=1:10]"
   ]
  },
  {
   "cell_type": "code",
   "execution_count": 45,
   "metadata": {},
   "outputs": [
    {
     "data": {
      "text/plain": [
       "10-element Array{Array{Int64,1},1}:\n",
       " [5]  \n",
       " [412]\n",
       " [412]\n",
       " [412]\n",
       " [412]\n",
       " [412]\n",
       " [412]\n",
       " [412]\n",
       " [412]\n",
       " [412]"
      ]
     },
     "execution_count": 45,
     "metadata": {},
     "output_type": "execute_result"
    }
   ],
   "source": [
    "[measure_reset!(reg, val=0b0110011100) for i=1:10]"
   ]
  },
  {
   "cell_type": "code",
   "execution_count": 46,
   "metadata": {},
   "outputs": [
    {
     "data": {
      "text/plain": [
       "1-element Array{Int64,1}:\n",
       " 3"
      ]
     },
     "execution_count": 46,
     "metadata": {},
     "output_type": "execute_result"
    }
   ],
   "source": [
    "measure_remove!(reg |> focus!(3,4,2,1))"
   ]
  },
  {
   "cell_type": "code",
   "execution_count": 49,
   "metadata": {},
   "outputs": [
    {
     "data": {
      "text/plain": [
       "DefaultRegister{1, Complex{Float64}}\n",
       "    active qubits: 6/6"
      ]
     },
     "execution_count": 49,
     "metadata": {},
     "output_type": "execute_result"
    }
   ],
   "source": [
    "reg"
   ]
  },
  {
   "cell_type": "code",
   "execution_count": 51,
   "metadata": {},
   "outputs": [
    {
     "data": {
      "text/plain": [
       "DefaultRegister{1, Complex{Float64}}\n",
       "    active qubits: 10/10"
      ]
     },
     "execution_count": 51,
     "metadata": {},
     "output_type": "execute_result"
    }
   ],
   "source": [
    "reg3 = relax!(reg) ⊗ rand_state(4)"
   ]
  },
  {
   "cell_type": "code",
   "execution_count": 56,
   "metadata": {},
   "outputs": [
    {
     "data": {
      "text/plain": [
       "1-element Array{Complex{Float64},1}:\n",
       " 0.0 + 0.0im"
      ]
     },
     "execution_count": 56,
     "metadata": {},
     "output_type": "execute_result"
    }
   ],
   "source": [
    "select(reg3, 0b0011100010) |> statevec"
   ]
  },
  {
   "cell_type": "code",
   "execution_count": 8,
   "metadata": {},
   "outputs": [
    {
     "data": {
      "text/plain": [
       "3-element Array{Float64,1}:\n",
       " 0.12627187929637737\n",
       " 0.10963506150124552\n",
       " 0.07092350044992166"
      ]
     },
     "execution_count": 8,
     "metadata": {},
     "output_type": "execute_result"
    }
   ],
   "source": [
    "ψ1 = rand_state(6, 3)\n",
    "ψ2 = rand_state(6, 3)\n",
    "fidelity(ψ1, ψ2)"
   ]
  },
  {
   "cell_type": "code",
   "execution_count": null,
   "metadata": {},
   "outputs": [],
   "source": []
  },
  {
   "cell_type": "code",
   "execution_count": 74,
   "metadata": {},
   "outputs": [
    {
     "name": "stderr",
     "output_type": "stream",
     "text": [
      "WARNING: import of Base.broadcastable into Main conflicts with an existing identifier; ignored.\n"
     ]
    },
    {
     "data": {
      "text/plain": [
       "iterate (generic function with 273 methods)"
      ]
     },
     "execution_count": 74,
     "metadata": {},
     "output_type": "execute_result"
    }
   ],
   "source": [
    "import Base: *, iterate, broadcastable\n",
    "*(bra::ConjRegister{1}, ket::DefaultRegister{1}) = statevec(bra) * statevec(ket)\n",
    "*(bra::ConjRegister, ket::DefaultRegister) = bra .* ket\n",
    "broadcastable(reg::AbstractRegister{1}) = Ref{reg}\n",
    "iterate(reg::AbstractRegister{1}, state=1) = state == 1 ? (reg, 2) : nothing\n",
    "\n",
    "function broadcastable(reg::DefaultRegister{B}) where B\n",
    "    st = reg |> rank3\n",
    "    Tuple(register(view(st, :, :, i)) for i = 1:B)\n",
    "end\n",
    "\n",
    "function iterate(reg::DefaultRegister{B}, state=1) where B\n",
    "    state > B && return nothing\n",
    "    st = reg |> rank3\n",
    "    register(view(st, :, :, state)), state+1\n",
    "end\n",
    "\n",
    "function broadcastable(reg::ConjRegister{B}) where B\n",
    "    st = reg |> rank3\n",
    "    Tuple(register(view(st, :, :, i))' for i = 1:B)\n",
    "end\n",
    "\n",
    "function iterate(reg::ConjRegister{B}, state=1) where B\n",
    "    state > B && return nothing\n",
    "    st = reg |> rank3\n",
    "    register(view(st, :, :, state))', state+1\n",
    "end"
   ]
  },
  {
   "cell_type": "code",
   "execution_count": 9,
   "metadata": {},
   "outputs": [
    {
     "ename": "MethodError",
     "evalue": "MethodError: no method matching rank3(::Adjoint{Complex{Float64},DefaultRegister{3,Complex{Float64},Array{Complex{Float64},2}}})\nClosest candidates are:\n  rank3(!Matched::DefaultRegister{B,T,MT} where MT<:AbstractArray{T,2} where T) where B at /home/leo/.julia/dev/Yao/src/Registers/Default.jl:46",
     "output_type": "error",
     "traceback": [
      "MethodError: no method matching rank3(::Adjoint{Complex{Float64},DefaultRegister{3,Complex{Float64},Array{Complex{Float64},2}}})\nClosest candidates are:\n  rank3(!Matched::DefaultRegister{B,T,MT} where MT<:AbstractArray{T,2} where T) where B at /home/leo/.julia/dev/Yao/src/Registers/Default.jl:46",
      "",
      "Stacktrace:",
      " [1] |>(::Adjoint{Complex{Float64},DefaultRegister{3,Complex{Float64},Array{Complex{Float64},2}}}, ::typeof(rank3)) at ./operators.jl:813",
      " [2] broadcastable(::Adjoint{Complex{Float64},DefaultRegister{3,Complex{Float64},Array{Complex{Float64},2}}}) at /home/leo/.julia/dev/Yao/src/Registers/Default.jl:246",
      " [3] broadcasted at ./broadcast.jl:1139 [inlined]",
      " [4] *(::Adjoint{Complex{Float64},DefaultRegister{3,Complex{Float64},Array{Complex{Float64},2}}}, ::DefaultRegister{3,Complex{Float64},Array{Complex{Float64},2}}) at /home/leo/.julia/dev/Yao/src/Registers/Default.jl:228",
      " [5] top-level scope at In[9]:1"
     ]
    }
   ],
   "source": [
    "focus!(ψ1, [1,2,4])' * focus!(ψ2, [1,2,4])"
   ]
  },
  {
   "cell_type": "markdown",
   "metadata": {},
   "source": [
    "# Batched Registers"
   ]
  },
  {
   "cell_type": "code",
   "execution_count": 12,
   "metadata": {},
   "outputs": [
    {
     "data": {
      "text/plain": [
       "DefaultRegister{8, Complex{Float64}}\n",
       "    active qubits: 10/10"
      ]
     },
     "execution_count": 12,
     "metadata": {},
     "output_type": "execute_result"
    }
   ],
   "source": [
    "reg = rand_state(10, 8)"
   ]
  },
  {
   "cell_type": "code",
   "execution_count": 16,
   "metadata": {},
   "outputs": [
    {
     "ename": "MethodError",
     "evalue": "MethodError: no method matching iterate(::DefaultRegister{8,Complex{Float64},Array{Complex{Float64},2}})\nClosest candidates are:\n  iterate(!Matched::Core.SimpleVector) at essentials.jl:578\n  iterate(!Matched::Core.SimpleVector, !Matched::Any) at essentials.jl:578\n  iterate(!Matched::ExponentialBackOff) at error.jl:171\n  ...",
     "output_type": "error",
     "traceback": [
      "MethodError: no method matching iterate(::DefaultRegister{8,Complex{Float64},Array{Complex{Float64},2}})\nClosest candidates are:\n  iterate(!Matched::Core.SimpleVector) at essentials.jl:578\n  iterate(!Matched::Core.SimpleVector, !Matched::Any) at essentials.jl:578\n  iterate(!Matched::ExponentialBackOff) at error.jl:171\n  ...",
      "",
      "Stacktrace:",
      " [1] append_any(::DefaultRegister{8,Complex{Float64},Array{Complex{Float64},2}}) at ./essentials.jl:415",
      " [2] top-level scope at In[16]:1"
     ]
    }
   ],
   "source": [
    "@. reg * 5 - 4 * reg == (reg...,)"
   ]
  },
  {
   "cell_type": "markdown",
   "metadata": {},
   "source": [
    "# Blocks"
   ]
  },
  {
   "cell_type": "code",
   "execution_count": 17,
   "metadata": {},
   "outputs": [
    {
     "data": {
      "text/plain": [
       "X gate"
      ]
     },
     "execution_count": 17,
     "metadata": {},
     "output_type": "execute_result"
    }
   ],
   "source": [
    "X"
   ]
  },
  {
   "cell_type": "code",
   "execution_count": 19,
   "metadata": {},
   "outputs": [
    {
     "data": {
      "text/plain": [
       "2×2 LuxurySparse.PermMatrix{Complex{Float64},Int64,Array{Complex{Float64},1},Array{Int64,1}}:\n",
       "    0       1.0+0.0im\n",
       " 1.0+0.0im     0     "
      ]
     },
     "execution_count": 19,
     "metadata": {},
     "output_type": "execute_result"
    }
   ],
   "source": [
    "mat(X)"
   ]
  },
  {
   "cell_type": "code",
   "execution_count": 20,
   "metadata": {},
   "outputs": [
    {
     "data": {
      "text/plain": [
       "Total: 3, DataType: Complex{Float64}\n",
       "\u001b[36m\u001b[1mput on (\u001b[22m\u001b[39m\u001b[36m\u001b[1m1\u001b[22m\u001b[39m\u001b[36m\u001b[1m)\u001b[22m\u001b[39m\n",
       "└─ X gate\n"
      ]
     },
     "execution_count": 20,
     "metadata": {},
     "output_type": "execute_result"
    }
   ],
   "source": [
    "px = put(3, 1=>X)"
   ]
  },
  {
   "cell_type": "code",
   "execution_count": 21,
   "metadata": {},
   "outputs": [
    {
     "data": {
      "text/plain": [
       "8×8 LuxurySparse.PermMatrix{Complex{Float64},Int64,Array{Complex{Float64},1},Array{Int64,1}}:\n",
       "    0       1.0+0.0im     0       …     0          0          0     \n",
       " 1.0+0.0im     0          0             0          0          0     \n",
       "    0          0          0             0          0          0     \n",
       "    0          0       1.0+0.0im        0          0          0     \n",
       "    0          0          0          1.0+0.0im     0          0     \n",
       "    0          0          0       …     0          0          0     \n",
       "    0          0          0             0          0       1.0+0.0im\n",
       "    0          0          0             0       1.0+0.0im     0     "
      ]
     },
     "execution_count": 21,
     "metadata": {},
     "output_type": "execute_result"
    }
   ],
   "source": [
    "mat(px)"
   ]
  },
  {
   "cell_type": "code",
   "execution_count": 24,
   "metadata": {},
   "outputs": [
    {
     "data": {
      "text/plain": [
       "Total: 1, DataType: Complex{Float64}\n",
       "\u001b[33m\u001b[1m[2] \u001b[22m\u001b[39mX gate\n"
      ]
     },
     "execution_count": 24,
     "metadata": {},
     "output_type": "execute_result"
    }
   ],
   "source": [
    "2X"
   ]
  },
  {
   "cell_type": "code",
   "execution_count": 25,
   "metadata": {},
   "outputs": [
    {
     "data": {
      "text/plain": [
       "2×2 LuxurySparse.PermMatrix{Complex{Float64},Int64,Array{Complex{Float64},1},Array{Int64,1}}:\n",
       "    0       2.0+0.0im\n",
       " 2.0+0.0im     0     "
      ]
     },
     "execution_count": 25,
     "metadata": {},
     "output_type": "execute_result"
    }
   ],
   "source": [
    "mat(2X)"
   ]
  },
  {
   "cell_type": "code",
   "execution_count": 27,
   "metadata": {},
   "outputs": [
    {
     "data": {
      "text/plain": [
       "Total: 3, DataType: Complex{Float64}\n",
       "\u001b[31m\u001b[1mcontrol(\u001b[22m\u001b[39m\u001b[31m\u001b[1m3\u001b[22m\u001b[39m\u001b[31m\u001b[1m)\u001b[22m\u001b[39m\n",
       "└─ \u001b[37m\u001b[1m(1,)\u001b[22m\u001b[39m=>X gate\n"
      ]
     },
     "execution_count": 27,
     "metadata": {},
     "output_type": "execute_result"
    }
   ],
   "source": [
    "cx = control(3, 3, 1=>X)"
   ]
  },
  {
   "cell_type": "code",
   "execution_count": 28,
   "metadata": {},
   "outputs": [
    {
     "data": {
      "text/plain": [
       "8×8 LuxurySparse.PermMatrix{Complex{Float64},Int64,Array{Complex{Float64},1},Array{Int64,1}}:\n",
       " 1.0+0.0im     0          0       …     0          0          0     \n",
       "    0       1.0+0.0im     0             0          0          0     \n",
       "    0          0       1.0+0.0im        0          0          0     \n",
       "    0          0          0             0          0          0     \n",
       "    0          0          0          1.0+0.0im     0          0     \n",
       "    0          0          0       …     0          0          0     \n",
       "    0          0          0             0          0       1.0+0.0im\n",
       "    0          0          0             0       1.0+0.0im     0     "
      ]
     },
     "execution_count": 28,
     "metadata": {},
     "output_type": "execute_result"
    }
   ],
   "source": [
    "mat(cx)"
   ]
  },
  {
   "cell_type": "code",
   "execution_count": 28,
   "metadata": {},
   "outputs": [],
   "source": [
    "struct B end"
   ]
  },
  {
   "cell_type": "code",
   "execution_count": 29,
   "metadata": {},
   "outputs": [],
   "source": [
    "Base.length(x::B) = 5\n",
    "Base.getindex(a::B, i) = 3"
   ]
  },
  {
   "cell_type": "code",
   "execution_count": 30,
   "metadata": {},
   "outputs": [
    {
     "ename": "MethodError",
     "evalue": "MethodError: no method matching iterate(::B)\nClosest candidates are:\n  iterate(!Matched::Core.SimpleVector) at essentials.jl:578\n  iterate(!Matched::Core.SimpleVector, !Matched::Any) at essentials.jl:578\n  iterate(!Matched::ExponentialBackOff) at error.jl:171\n  ...",
     "output_type": "error",
     "traceback": [
      "MethodError: no method matching iterate(::B)\nClosest candidates are:\n  iterate(!Matched::Core.SimpleVector) at essentials.jl:578\n  iterate(!Matched::Core.SimpleVector, !Matched::Any) at essentials.jl:578\n  iterate(!Matched::ExponentialBackOff) at error.jl:171\n  ...",
      "",
      "Stacktrace:",
      " [1] copyto!(::Array{Any,1}, ::B) at ./abstractarray.jl:646",
      " [2] _collect(::UnitRange{Int64}, ::B, ::Base.HasEltype, ::Base.HasLength) at ./array.jl:563",
      " [3] collect(::B) at ./array.jl:557",
      " [4] broadcastable(::B) at ./broadcast.jl:609",
      " [5] broadcasted(::Function, ::Function, ::B, ::Val{2}) at ./broadcast.jl:1140",
      " [6] top-level scope at In[30]:1"
     ]
    }
   ],
   "source": [
    "B().^2"
   ]
  },
  {
   "cell_type": "code",
   "execution_count": null,
   "metadata": {},
   "outputs": [],
   "source": []
  }
 ],
 "metadata": {
  "kernelspec": {
   "display_name": "Julia 1.0.0",
   "language": "julia",
   "name": "julia-1.0"
  },
  "language_info": {
   "file_extension": ".jl",
   "mimetype": "application/julia",
   "name": "julia",
   "version": "1.0.0"
  }
 },
 "nbformat": 4,
 "nbformat_minor": 2
}
