{
 "cells": [
  {
   "cell_type": "markdown",
   "metadata": {},
   "source": [
    "# Basics about quantum simulation"
   ]
  },
  {
   "cell_type": "code",
   "execution_count": 3,
   "metadata": {},
   "outputs": [],
   "source": [
    "using Yao, Yao.Blocks\n",
    "using LinearAlgebra\n",
    "using Test, BenchmarkTools"
   ]
  },
  {
   "cell_type": "markdown",
   "metadata": {},
   "source": [
    "## Basic Register Operations"
   ]
  },
  {
   "cell_type": "markdown",
   "metadata": {},
   "source": [
    "### Constructors"
   ]
  },
  {
   "cell_type": "code",
   "execution_count": 5,
   "metadata": {},
   "outputs": [],
   "source": [
    "ψ1 = zero_state(5)\n",
    "@assert nqubits(ψ1) == nactive(ψ1) == 5\n",
    "@assert nremain(ψ1) == nremain(ψ1) == 0"
   ]
  },
  {
   "cell_type": "markdown",
   "metadata": {},
   "source": [
    "The total number of qubits here is 5, they are all acitve by default. `active` qubits are also called `system` qubits that are visible to operations, remaining qubits are the `environment`."
   ]
  },
  {
   "cell_type": "code",
   "execution_count": 6,
   "metadata": {},
   "outputs": [
    {
     "data": {
      "text/plain": [
       "true"
      ]
     },
     "execution_count": 6,
     "metadata": {},
     "output_type": "execute_result"
    }
   ],
   "source": [
    "join(product_state(3, 0b110), product_state(3, 0b001)) == product_state(6, 0b110001)"
   ]
  },
  {
   "cell_type": "code",
   "execution_count": 11,
   "metadata": {},
   "outputs": [
    {
     "data": {
      "text/plain": [
       "true"
      ]
     },
     "execution_count": 11,
     "metadata": {},
     "output_type": "execute_result"
    }
   ],
   "source": [
    "reg = product_state(5, 0b11100)\n",
    "addbit!(copy(reg), 2) == product_state(7, 0b0011100)"
   ]
  },
  {
   "cell_type": "code",
   "execution_count": 12,
   "metadata": {},
   "outputs": [],
   "source": [
    "ψ1 = rand_state(5)\n",
    "ψ2 = rand_state(5)\n",
    "@assert ψ1 |> isnormalized && ψ2 |> isnormalized\n",
    "ψ3 = 0.3ψ1 + 2ψ2\n",
    "@assert ψ3 |> isnormalized == false\n",
    "@assert ψ3 |> normalize! |> isnormalized"
   ]
  },
  {
   "cell_type": "markdown",
   "metadata": {},
   "source": [
    "### Adjoint"
   ]
  },
  {
   "cell_type": "code",
   "execution_count": 13,
   "metadata": {},
   "outputs": [
    {
     "data": {
      "text/plain": [
       "DefaultRegister{1, Complex{Float64}}\n",
       "    active qubits: 3/3 [†]"
      ]
     },
     "execution_count": 13,
     "metadata": {},
     "output_type": "execute_result"
    }
   ],
   "source": [
    "bra = rand_state(3)'"
   ]
  },
  {
   "cell_type": "code",
   "execution_count": 14,
   "metadata": {},
   "outputs": [
    {
     "data": {
      "text/plain": [
       "1.0 + 0.0im"
      ]
     },
     "execution_count": 14,
     "metadata": {},
     "output_type": "execute_result"
    }
   ],
   "source": [
    "@assert reg |> isnormalized\n",
    "reg' * reg"
   ]
  },
  {
   "cell_type": "markdown",
   "metadata": {},
   "source": [
    "# Focus\n",
    "To support modulized design of circuits, we use `focus!` to set some qubits as active, and the remaining are not supported!"
   ]
  },
  {
   "cell_type": "code",
   "execution_count": 15,
   "metadata": {},
   "outputs": [
    {
     "data": {
      "text/plain": [
       "DefaultRegister{1, Complex{Float64}}\n",
       "    active qubits: 5/10"
      ]
     },
     "execution_count": 15,
     "metadata": {},
     "output_type": "execute_result"
    }
   ],
   "source": [
    "reg = rand_state(10)\n",
    "focus!(reg, 1:5)"
   ]
  },
  {
   "cell_type": "code",
   "execution_count": 16,
   "metadata": {},
   "outputs": [
    {
     "data": {
      "text/plain": [
       "5"
      ]
     },
     "execution_count": 16,
     "metadata": {},
     "output_type": "execute_result"
    }
   ],
   "source": [
    "nactive(reg)"
   ]
  },
  {
   "cell_type": "code",
   "execution_count": 17,
   "metadata": {},
   "outputs": [
    {
     "data": {
      "text/plain": [
       "DefaultRegister{1, Complex{Float64}}\n",
       "    active qubits: 10/10"
      ]
     },
     "execution_count": 17,
     "metadata": {},
     "output_type": "execute_result"
    }
   ],
   "source": [
    "relax!(reg)"
   ]
  },
  {
   "cell_type": "code",
   "execution_count": 18,
   "metadata": {},
   "outputs": [
    {
     "data": {
      "text/plain": [
       "DefaultRegister{1, Complex{Float64}}\n",
       "    active qubits: 10/10"
      ]
     },
     "execution_count": 18,
     "metadata": {},
     "output_type": "execute_result"
    }
   ],
   "source": [
    "focus!(reg, [3,1,5]) do r\n",
    "    r.state = randn(8, 8) * r.state\n",
    "    r\n",
    "end"
   ]
  },
  {
   "cell_type": "markdown",
   "metadata": {},
   "source": [
    "# Measure"
   ]
  },
  {
   "cell_type": "code",
   "execution_count": 81,
   "metadata": {},
   "outputs": [
    {
     "data": {
      "text/plain": [
       "1-element Array{Int64,1}:\n",
       " 49"
      ]
     },
     "execution_count": 81,
     "metadata": {},
     "output_type": "execute_result"
    }
   ],
   "source": [
    "reg = rand_state(7)\n",
    "measure(reg)"
   ]
  },
  {
   "cell_type": "code",
   "execution_count": 92,
   "metadata": {},
   "outputs": [
    {
     "data": {
      "text/plain": [
       "5-element Array{Array{Int64,1},1}:\n",
       " [36]\n",
       " [36]\n",
       " [36]\n",
       " [36]\n",
       " [36]"
      ]
     },
     "execution_count": 92,
     "metadata": {},
     "output_type": "execute_result"
    }
   ],
   "source": [
    "reg = rand_state(7)\n",
    "[measure!(reg) for i=1:5]"
   ]
  },
  {
   "cell_type": "code",
   "execution_count": 93,
   "metadata": {},
   "outputs": [
    {
     "data": {
      "text/plain": [
       "5-element Array{Array{Int64,1},1}:\n",
       " [1] \n",
       " [56]\n",
       " [56]\n",
       " [56]\n",
       " [56]"
      ]
     },
     "execution_count": 93,
     "metadata": {},
     "output_type": "execute_result"
    }
   ],
   "source": [
    "reg = rand_state(7)\n",
    "[measure_reset!(reg, val=0b0111000) for i=1:5]"
   ]
  },
  {
   "cell_type": "code",
   "execution_count": 97,
   "metadata": {},
   "outputs": [
    {
     "data": {
      "text/plain": [
       "5-element Array{Array{Int64,1},1}:\n",
       " [7]\n",
       " [3]\n",
       " [3]\n",
       " [3]\n",
       " [3]"
      ]
     },
     "execution_count": 97,
     "metadata": {},
     "output_type": "execute_result"
    }
   ],
   "source": [
    "reg = rand_state(7)\n",
    "[measure_reset!(reg, 1:3, val=0b011) for i=1:5]"
   ]
  },
  {
   "cell_type": "code",
   "execution_count": 98,
   "metadata": {},
   "outputs": [
    {
     "data": {
      "text/plain": [
       "DefaultRegister{1, Complex{Float64}}\n",
       "    active qubits: 9/9"
      ]
     },
     "execution_count": 98,
     "metadata": {},
     "output_type": "execute_result"
    }
   ],
   "source": [
    "reg = rand_state(5)\n",
    "reg3 = relax!(reg) ⊗ rand_state(4)"
   ]
  },
  {
   "cell_type": "code",
   "execution_count": 99,
   "metadata": {},
   "outputs": [
    {
     "data": {
      "text/plain": [
       "1-element Array{Complex{Float64},1}:\n",
       " -0.02163448025080393 - 0.04426622345562754im"
      ]
     },
     "execution_count": 99,
     "metadata": {},
     "output_type": "execute_result"
    }
   ],
   "source": [
    "select(reg3, 0b011100010) |> statevec"
   ]
  },
  {
   "cell_type": "code",
   "execution_count": 102,
   "metadata": {},
   "outputs": [
    {
     "data": {
      "text/plain": [
       "DefaultRegister{3, Complex{Float64}}\n",
       "    active qubits: 0/6"
      ]
     },
     "execution_count": 102,
     "metadata": {},
     "output_type": "execute_result"
    }
   ],
   "source": [
    "select(repeat(reg3, 3) |> focus!(1,4,2), 0b110)"
   ]
  },
  {
   "cell_type": "code",
   "execution_count": 9,
   "metadata": {},
   "outputs": [
    {
     "data": {
      "text/plain": [
       "DefaultRegister{3, Complex{Float64}}\n",
       "    active qubits: 6/6"
      ]
     },
     "execution_count": 9,
     "metadata": {},
     "output_type": "execute_result"
    }
   ],
   "source": [
    "reg1 = rand_state(3,3)\n",
    "reg2 = rand_state(3,3)\n",
    "join(reg2, reg1) "
   ]
  },
  {
   "cell_type": "code",
   "execution_count": 10,
   "metadata": {},
   "outputs": [
    {
     "data": {
      "text/plain": [
       "true"
      ]
     },
     "execution_count": 10,
     "metadata": {},
     "output_type": "execute_result"
    }
   ],
   "source": [
    "reg = rand_state(3)\n",
    "addbit!(copy(reg), 3) ≈ join(zero_state(3), reg)"
   ]
  },
  {
   "cell_type": "markdown",
   "metadata": {},
   "source": [
    "# Utilities"
   ]
  },
  {
   "cell_type": "code",
   "execution_count": 66,
   "metadata": {},
   "outputs": [
    {
     "data": {
      "text/plain": [
       "3-element Array{Float64,1}:\n",
       " 0.2629200569833408  \n",
       " 0.036133392527502646\n",
       " 0.22117308688977222 "
      ]
     },
     "execution_count": 66,
     "metadata": {},
     "output_type": "execute_result"
    }
   ],
   "source": [
    "ψ1 = rand_state(6, 3)\n",
    "ψ2 = rand_state(6, 3)\n",
    "fidelity(ψ1, ψ2)"
   ]
  },
  {
   "cell_type": "code",
   "execution_count": 67,
   "metadata": {},
   "outputs": [
    {
     "data": {
      "text/plain": [
       "3-element Array{Array{Complex{Float64},2},1}:\n",
       " [0.00583813+0.0326435im -0.0361655+0.018877im … -0.00402826-0.00535318im -0.0299721+0.0336662im; 0.00499055+0.0246059im -0.0206718-0.00923574im … -0.0145988+0.00785847im -0.021881-0.0211995im; … ; -0.0129979+0.0217014im 0.0113703-0.00925451im … 0.0144394+0.0359569im 0.0624196+0.0162656im; -0.0207398-0.0323418im 0.0397599+0.0196986im … 0.0290476-0.021112im 0.0167469+0.0182834im]    \n",
       " [0.0417005+0.000267743im -0.0473185-0.0562105im … 0.0253143+0.011994im -0.0363981+0.0131624im; 0.00761689+0.0388646im 0.0111785-0.0181938im … 0.0403567-0.0140694im -0.0460928-0.013771im; … ; -0.0306069-0.00211875im -0.0409247-0.00209542im … 0.00172109+0.0324756im -0.00669815+0.0147558im; 0.020308+0.0143948im 0.00457508-0.00698457im … 0.0118949+0.0462287im -0.00540798+0.00474091im] \n",
       " [-0.0108797+0.0077124im -0.00965004+0.000541488im … -0.0540584-0.00296464im 0.00324668+0.00354565im; 0.0368419-0.0184345im -0.0233599+0.0453663im … -0.0453015-0.029949im -0.0567123+0.00847797im; … ; -0.0295785-0.0286985im 0.0677676-0.00631666im … 0.0442189-0.0137415im 0.0132111+0.019741im; 0.0496411+0.000186758im -0.0133638-0.0451511im … -0.022334-0.0304625im 0.00727493+0.018483im]"
      ]
     },
     "execution_count": 67,
     "metadata": {},
     "output_type": "execute_result"
    }
   ],
   "source": [
    "focus!(ψ1, [1,2,4])' * focus!(ψ2, [1,2,4])"
   ]
  },
  {
   "cell_type": "markdown",
   "metadata": {},
   "source": [
    "# Batched Registers"
   ]
  },
  {
   "cell_type": "code",
   "execution_count": 108,
   "metadata": {},
   "outputs": [],
   "source": [
    "@assert nbatch(ψ1) == 1\n",
    "reg = rand_state(10, 8)\n",
    "@assert nbatch(reg) == 8"
   ]
  },
  {
   "cell_type": "code",
   "execution_count": 110,
   "metadata": {},
   "outputs": [
    {
     "data": {
      "text/plain": [
       "DefaultRegister{24, Complex{Float64}}\n",
       "    active qubits: 10/10"
      ]
     },
     "execution_count": 110,
     "metadata": {},
     "output_type": "execute_result"
    }
   ],
   "source": [
    "repeat(reg, 3)   # repeat registers in batch dimension"
   ]
  },
  {
   "cell_type": "code",
   "execution_count": 69,
   "metadata": {},
   "outputs": [
    {
     "data": {
      "text/plain": [
       "8-element BitArray{1}:\n",
       " true\n",
       " true\n",
       " true\n",
       " true\n",
       " true\n",
       " true\n",
       " true\n",
       " true"
      ]
     },
     "execution_count": 69,
     "metadata": {},
     "output_type": "execute_result"
    }
   ],
   "source": [
    "@. reg * 5 - 4 * reg ≈ reg"
   ]
  },
  {
   "cell_type": "code",
   "execution_count": 70,
   "metadata": {},
   "outputs": [
    {
     "data": {
      "text/plain": [
       "9-element Array{DefaultRegister{1,Complex{Float64},SubArray{Complex{Float64},2,Array{Complex{Float64},3},Tuple{Base.Slice{Base.OneTo{Int64}},Base.Slice{Base.OneTo{Int64}},Int64},true}},1}:\n",
       " DefaultRegister{1, Complex{Float64}}\n",
       "    active qubits: 3/6\n",
       " DefaultRegister{1, Complex{Float64}}\n",
       "    active qubits: 3/6\n",
       " DefaultRegister{1, Complex{Float64}}\n",
       "    active qubits: 3/6\n",
       " DefaultRegister{1, Complex{Float64}}\n",
       "    active qubits: 3/6\n",
       " DefaultRegister{1, Complex{Float64}}\n",
       "    active qubits: 3/6\n",
       " DefaultRegister{1, Complex{Float64}}\n",
       "    active qubits: 3/6\n",
       " DefaultRegister{1, Complex{Float64}}\n",
       "    active qubits: 3/6\n",
       " DefaultRegister{1, Complex{Float64}}\n",
       "    active qubits: 3/6\n",
       " DefaultRegister{1, Complex{Float64}}\n",
       "    active qubits: 3/6"
      ]
     },
     "execution_count": 70,
     "metadata": {},
     "output_type": "execute_result"
    }
   ],
   "source": [
    "map(reg->reg |> put(5, 2=>X), repeat(ψ2, 3))"
   ]
  },
  {
   "cell_type": "markdown",
   "metadata": {},
   "source": [
    "# Blocks"
   ]
  },
  {
   "cell_type": "code",
   "execution_count": 36,
   "metadata": {},
   "outputs": [
    {
     "data": {
      "text/plain": [
       "X gate"
      ]
     },
     "execution_count": 36,
     "metadata": {},
     "output_type": "execute_result"
    }
   ],
   "source": [
    "X"
   ]
  },
  {
   "cell_type": "code",
   "execution_count": 37,
   "metadata": {},
   "outputs": [
    {
     "data": {
      "text/plain": [
       "2×2 LuxurySparse.PermMatrix{Complex{Float64},Int64,Array{Complex{Float64},1},Array{Int64,1}}:\n",
       "    0       1.0+0.0im\n",
       " 1.0+0.0im     0     "
      ]
     },
     "execution_count": 37,
     "metadata": {},
     "output_type": "execute_result"
    }
   ],
   "source": [
    "mat(X)"
   ]
  },
  {
   "cell_type": "code",
   "execution_count": 38,
   "metadata": {},
   "outputs": [
    {
     "data": {
      "text/plain": [
       "Total: 3, DataType: Complex{Float64}\n",
       "\u001b[36m\u001b[1mput on (\u001b[22m\u001b[39m\u001b[36m\u001b[1m1\u001b[22m\u001b[39m\u001b[36m\u001b[1m)\u001b[22m\u001b[39m\n",
       "└─ X gate\n"
      ]
     },
     "execution_count": 38,
     "metadata": {},
     "output_type": "execute_result"
    }
   ],
   "source": [
    "px = put(3, 1=>X)"
   ]
  },
  {
   "cell_type": "code",
   "execution_count": 39,
   "metadata": {},
   "outputs": [
    {
     "data": {
      "text/plain": [
       "8×8 LuxurySparse.PermMatrix{Complex{Float64},Int64,Array{Complex{Float64},1},Array{Int64,1}}:\n",
       "    0       1.0+0.0im     0       …     0          0          0     \n",
       " 1.0+0.0im     0          0             0          0          0     \n",
       "    0          0          0             0          0          0     \n",
       "    0          0       1.0+0.0im        0          0          0     \n",
       "    0          0          0          1.0+0.0im     0          0     \n",
       "    0          0          0       …     0          0          0     \n",
       "    0          0          0             0          0       1.0+0.0im\n",
       "    0          0          0             0       1.0+0.0im     0     "
      ]
     },
     "execution_count": 39,
     "metadata": {},
     "output_type": "execute_result"
    }
   ],
   "source": [
    "mat(px)"
   ]
  },
  {
   "cell_type": "code",
   "execution_count": 40,
   "metadata": {},
   "outputs": [
    {
     "data": {
      "text/plain": [
       "Total: 1, DataType: Complex{Float64}\n",
       "\u001b[33m\u001b[1m[2] \u001b[22m\u001b[39mX gate\n"
      ]
     },
     "execution_count": 40,
     "metadata": {},
     "output_type": "execute_result"
    }
   ],
   "source": [
    "2X"
   ]
  },
  {
   "cell_type": "code",
   "execution_count": 41,
   "metadata": {},
   "outputs": [
    {
     "data": {
      "text/plain": [
       "2×2 LuxurySparse.PermMatrix{Complex{Float64},Int64,Array{Complex{Float64},1},Array{Int64,1}}:\n",
       "    0       2.0+0.0im\n",
       " 2.0+0.0im     0     "
      ]
     },
     "execution_count": 41,
     "metadata": {},
     "output_type": "execute_result"
    }
   ],
   "source": [
    "mat(2X)"
   ]
  },
  {
   "cell_type": "code",
   "execution_count": 42,
   "metadata": {},
   "outputs": [
    {
     "data": {
      "text/plain": [
       "Total: 3, DataType: Complex{Float64}\n",
       "\u001b[31m\u001b[1mcontrol(\u001b[22m\u001b[39m\u001b[31m\u001b[1m3\u001b[22m\u001b[39m\u001b[31m\u001b[1m)\u001b[22m\u001b[39m\n",
       "└─ \u001b[37m\u001b[1m(1,)\u001b[22m\u001b[39m=>X gate\n"
      ]
     },
     "execution_count": 42,
     "metadata": {},
     "output_type": "execute_result"
    }
   ],
   "source": [
    "cx = control(3, 3, 1=>X)"
   ]
  },
  {
   "cell_type": "code",
   "execution_count": 43,
   "metadata": {},
   "outputs": [
    {
     "data": {
      "text/plain": [
       "8×8 LuxurySparse.PermMatrix{Complex{Float64},Int64,Array{Complex{Float64},1},Array{Int64,1}}:\n",
       " 1.0+0.0im     0          0       …     0          0          0     \n",
       "    0       1.0+0.0im     0             0          0          0     \n",
       "    0          0       1.0+0.0im        0          0          0     \n",
       "    0          0          0             0          0          0     \n",
       "    0          0          0          1.0+0.0im     0          0     \n",
       "    0          0          0       …     0          0          0     \n",
       "    0          0          0             0          0       1.0+0.0im\n",
       "    0          0          0             0       1.0+0.0im     0     "
      ]
     },
     "execution_count": 43,
     "metadata": {},
     "output_type": "execute_result"
    }
   ],
   "source": [
    "mat(cx)"
   ]
  },
  {
   "cell_type": "code",
   "execution_count": null,
   "metadata": {},
   "outputs": [],
   "source": []
  }
 ],
 "metadata": {
  "kernelspec": {
   "display_name": "Julia 1.0.0",
   "language": "julia",
   "name": "julia-1.0"
  },
  "language_info": {
   "file_extension": ".jl",
   "mimetype": "application/julia",
   "name": "julia",
   "version": "1.0.0"
  }
 },
 "nbformat": 4,
 "nbformat_minor": 2
}
